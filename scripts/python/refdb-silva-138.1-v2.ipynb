{
 "cells": [
  {
   "cell_type": "markdown",
   "id": "elegant-cigarette",
   "metadata": {},
   "source": [
    "# Evaluating classifiers\n",
    "* This pipeline shows how RESCRIPt can be used to evaluate and check the quality of databases.\n",
    "* This will follow the method `evaluate-fit-classifier` (see the alternative `evaluate-cross-validate` in the full <a href=\"https://forum.qiime2.org/t/processing-filtering-and-evaluating-the-silva-database-and-other-reference-sequence-data-with-rescript/15494\" target=\"_blank\"> tutorial</a>).\n",
    "* Note: this classifier is built for Tolentino et al. (in prep) which aims to identify the taxonomy of nanoplanktonic eukaryotes"
   ]
  },
  {
   "cell_type": "markdown",
   "id": "cross-thumb",
   "metadata": {},
   "source": [
    "## Activating QIIME2 environment and installing relevant dependencies\n",
    "Skip this if you have already activated and installed QIIME2 environment and relevant dependencies, respectively."
   ]
  },
  {
   "cell_type": "code",
   "execution_count": null,
   "id": "promotional-auckland",
   "metadata": {},
   "outputs": [],
   "source": [
    "# Activate QIIME2 environment and install relevant dependencies\n",
    "!conda install -c conda-forge -c bioconda -c qiime2 -c defaults xmltodict -y"
   ]
  },
  {
   "cell_type": "markdown",
   "id": "every-wrist",
   "metadata": {},
   "source": [
    "<span style='color:red'>**Note:**</span> Import QIIME 2 python module to allow for inline visualizations"
   ]
  },
  {
   "cell_type": "code",
   "execution_count": null,
   "id": "round-projector",
   "metadata": {},
   "outputs": [],
   "source": [
    "import qiime2 as q2"
   ]
  },
  {
   "cell_type": "markdown",
   "id": "extraordinary-bronze",
   "metadata": {},
   "source": [
    "## Using RESCRIPt\n",
    "This pipeline will mainly use QIIME2 software, the RESCRIPt plugin (Reference Sequence annotation and CuRatIon Pipeline) in particular.\n",
    "\n",
    "Documentation: <a href=\"https://github.com/bokulich-lab/RESCRIPt\" target=\"_blank\"> Github link </a>"
   ]
  },
  {
   "cell_type": "code",
   "execution_count": null,
   "id": "buried-wagner",
   "metadata": {},
   "outputs": [],
   "source": [
    "# Install RESCRIPt source:\n",
    "!pip install git+https://github.com/bokulich-lab/RESCRIPt.git\n",
    "    \n",
    "# View help menu for using rescript\n",
    "!qiime dev refresh-cache\n",
    "!qiime rescript --help"
   ]
  },
  {
   "cell_type": "markdown",
   "id": "bottom-prediction",
   "metadata": {},
   "source": [
    "## Pipeline\n",
    "Based on Mike Robeson's pipeline for formatting SILVA data \n",
    "(see <a href=\"https://forum.qiime2.org/t/processing-filtering-and-evaluating-the-silva-database-and-other-reference-sequence-data-with-rescript/15494\" target=\"_blank\">Documentation</a>)\n",
    "\n",
    "### Preparing SILVA database\n",
    "**Using the easy way**"
   ]
  },
  {
   "cell_type": "code",
   "execution_count": null,
   "id": "conscious-webcam",
   "metadata": {},
   "outputs": [],
   "source": [
    "## Get the SILVA data\n",
    "# Skip this cell if you have locally downloaded files\n",
    "\n",
    "!qiime rescript get-silva-data\\\n",
    "    --p-version '138.1'\\\n",
    "    --p-target 'SSURef_NR99'\\\n",
    "    --p-include-species-labels\\\n",
    "    --o-silva-sequences silva-138.1-ssu-nr99-seqs.qza\\\n",
    "    --o-silva-taxonomy silva-138.1-ssu-nr99-tax.qza\\\n",
    "    \n",
    "# There is another way if you already downloaded the files (see documentation)"
   ]
  },
  {
   "cell_type": "markdown",
   "id": "technical-standard",
   "metadata": {},
   "source": [
    "**Using the hard way:**\n",
    "\n",
    "Download SILVA files\n",
    "First, we’ll need to go to the <a href=\"https://www.arb-silva.de/no_cache/download/archive/release_138.1/Exports/\" target=\"_blank\"> SILVA v138.1 archive </a> to obtain:\n",
    "\n",
    "the following taxonomy files:\n",
    "\n",
    "tax_slv_ssu_138.1.txt.gz\n",
    "taxmap_slv_ssu_ref_nr_138.1.txt.gz\n",
    "tax_slv_ssu_138.1.tre.gz\n",
    "the sequence file:\n",
    "SILVA_138.1_SSURef_Nr99_tax_silva_trunc.fasta.gz\n",
    "You can download the files through your browser directly. We’ll make use of wget to download the files from the command line, then gunzip these files prior to importing into QIIME 2.\n",
    "\n",
    "Download the Taxonomy Rank file. This maps the taxonomic rank and taxonomy to the taxid."
   ]
  },
  {
   "cell_type": "code",
   "execution_count": null,
   "id": "prospective-coffee",
   "metadata": {},
   "outputs": [],
   "source": [
    "# Taxonomy Rank File\n",
    "!wget https://www.arb-silva.de/fileadmin/silva_databases/release_138.1/Exports/taxonomy/tax_slv_ssu_138.1.txt.gz\n",
    "!gunzip tax_slv_ssu_138.1.txt.gz\n",
    "\n",
    "# Taxonomy Map File\n",
    "!wget https://www.arb-silva.de/fileadmin/silva_databases/release_138.1/Exports/taxonomy/taxmap_slv_ssu_ref_nr_138.1.txt.gz\n",
    "!gunzip taxmap_slv_ssu_ref_nr_138.1.txt.gz\n",
    "\n",
    "# Taxoomy Tree File\n",
    "!wget https://www.arb-silva.de/fileadmin/silva_databases/release_138.1/Exports/taxonomy/tax_slv_ssu_138.1.tre.gz\n",
    "!gunzip tax_slv_ssu_138.1.tre.gz\n",
    "\n",
    "# SILVA NR99 sequences (non-redundant and unaligned)\n",
    "!wget https://www.arb-silva.de/fileadmin/silva_databases/release_138.1/Exports/SILVA_138.1_SSURef_NR99_tax_silva_trunc.fasta.gz\n",
    "!gunzip SILVA_138.1_SSURef_NR99_tax_silva_trunc.fasta.gz"
   ]
  },
  {
   "cell_type": "markdown",
   "id": "distinct-thursday",
   "metadata": {},
   "source": [
    "***Import SILVA files into QIIME 2***"
   ]
  },
  {
   "cell_type": "code",
   "execution_count": null,
   "id": "cutting-flight",
   "metadata": {},
   "outputs": [],
   "source": [
    "# Import Taxonomy Rank File\n",
    "!qiime tools import \\\n",
    "    --type 'FeatureData[SILVATaxonomy]' \\\n",
    "    --input-path tax_slv_ssu_138.1.txt \\\n",
    "    --output-path taxranks-silva-138.1-ssu-nr99.qza \\\n",
    "\n",
    "# Import Taxonomy Map File\n",
    "!qiime tools import \\\n",
    "    --type 'FeatureData[SILVATaxidMap]' \\\n",
    "    --input-path taxmap_slv_ssu_ref_nr_138.1.txt \\\n",
    "    --output-path taxmap-silva-138.1-ssu-nr99.qza \\\n",
    "\n",
    "# Import Taxonomy Tree File\n",
    "!qiime tools import \\\n",
    "    --type 'Phylogeny[Rooted]' \\\n",
    "    --input-path tax_slv_ssu_138.1.tre \\\n",
    "    --output-path taxtree-silva-138.1-nr99.qza \\\n",
    "\n",
    "# Import SILVA NR99 sequences (non-redundant and unaligned)\n",
    "!qiime tools import \\\n",
    "    --type 'FeatureData[RNASequence]' \\\n",
    "    --input-path SILVA_138.1_SSURef_NR99_tax_silva_trunc.fasta \\\n",
    "    --output-path silva-138.1-ssu-nr99-seqs.qza"
   ]
  },
  {
   "cell_type": "markdown",
   "id": "bacterial-innocent",
   "metadata": {},
   "source": [
    "### Reverse Transcribe\n",
    "It is not uncommon to find reference sequences only provided in RNA form, as is the case with the parsing of the SILVA reference data we performed earlier. What actually happened, “behind the scenes”, was that the SILVA sequences were reverse transcribed from RNA to DNA. Did you notice the FeatureData[RNASequence] type when we manually imported the sequences at the beginning? We’ll take that file and reverse transcribe manually here."
   ]
  },
  {
   "cell_type": "code",
   "execution_count": null,
   "id": "neither-public",
   "metadata": {},
   "outputs": [],
   "source": [
    "!qiime rescript reverse-transcribe \\\n",
    "    --i-rna-sequences silva-138.1-ssu-nr99-seqs.qza  \\\n",
    "    --o-dna-sequences silva-138.1-ssu-nr99-dna.qza"
   ]
  },
  {
   "cell_type": "markdown",
   "id": "eligible-hostel",
   "metadata": {},
   "source": [
    "We are now ready to proceed with making our SILVA reference database within QIIME 2. First we’ll need to prepare the silva taxonomy prior to use. We’ll use parse-silva-taxonomy to do this and use the optional flag to include the species labels. But be wary, there are species label annotations that may be spurious! See the caveats about using species-labels later in this document."
   ]
  },
  {
   "cell_type": "code",
   "execution_count": null,
   "id": "special-compatibility",
   "metadata": {},
   "outputs": [],
   "source": [
    "# Default parsing\n",
    "!qiime rescript parse-silva-taxonomy \\\n",
    "    --i-taxonomy-tree taxtree-silva-138.1-nr99.qza \\\n",
    "    --i-taxonomy-map taxmap-silva-138.1-ssu-nr99.qza \\\n",
    "    --i-taxonomy-ranks taxranks-silva-138.1-ssu-nr99.qza \\\n",
    "    --p-include-species-labels \\\n",
    "    --o-taxonomy silva-138.1-ssu-nr99-tax.qza"
   ]
  },
  {
   "cell_type": "code",
   "execution_count": null,
   "id": "sophisticated-anchor",
   "metadata": {},
   "outputs": [],
   "source": [
    "# Parsing taxonomy mapping to include specific taxonomic rank (target: k__Animalia)\n",
    "# NOTE: species label is included in '--p-include-species-labels'\n",
    "!qiime rescript parse-silva-taxonomy \\\n",
    "    --i-taxonomy-tree ~/analyses/ms398-2020/ref/taxtree-silva-138.1-nr99.qza \\\n",
    "    --i-taxonomy-map ~/analyses/ms398-2020/ref/taxmap-silva-138.1-ssu-nr99.qza \\\n",
    "    --i-taxonomy-ranks ~/analyses/ms398-2020/ref/taxranks-silva-138.1-ssu-nr99.qza \\\n",
    "    --p-include-species-labels \\\n",
    "    --p-ranks domain kingdom phylum class order family genus \\\n",
    "    --o-taxonomy silva-138.1-ssu-nr99-tax-kingdomspecies.qza"
   ]
  },
  {
   "cell_type": "code",
   "execution_count": null,
   "id": "expected-laugh",
   "metadata": {},
   "outputs": [],
   "source": [
    "# Get all ranks from Silva then convert to appropriate indices (i.e., space-delimited strings)\n",
    "a = ['domain', 'superkingdom', 'kingdom', 'subkingdom', 'superphylum', 'phylum', 'subphylum', 'infraphylum', 'superclass', 'class', 'subclass', 'infraclass', 'superorder', 'order', 'suborder', 'superfamily', 'family', 'subfamily', 'genus']\n",
    "listToStr = ' '.join([str(elem) for elem in a])\n",
    "print(listToStr)\n",
    "\n",
    "# This was done to check all the labels and to look for the label for Metazoa"
   ]
  },
  {
   "cell_type": "code",
   "execution_count": null,
   "id": "characteristic-account",
   "metadata": {},
   "outputs": [],
   "source": [
    "# Parsing taxonomy mapping to include specific taxonomic rank (target: Metazoa)\n",
    "!qiime rescript parse-silva-taxonomy \\\n",
    "    --i-taxonomy-tree ~/analyses/ms398-2020/ref/taxtree-silva-138.1-nr99.qza \\\n",
    "    --i-taxonomy-map ~/analyses/ms398-2020/ref/taxmap-silva-138.1-ssu-nr99.qza \\\n",
    "    --i-taxonomy-ranks ~/analyses/ms398-2020/ref/taxranks-silva-138.1-ssu-nr99.qza \\\n",
    "    --p-include-species-labels \\\n",
    "    --p-ranks domain kingdom phylum class order family genus \\\n",
    "    --o-taxonomy silva-138.1-ssu-nr99-tax-all.qza\n",
    "\n",
    "# Note: k__Animalia was used to distinguish multicellular/macroorganisms \n",
    "# from microorganisms, instead"
   ]
  },
  {
   "cell_type": "code",
   "execution_count": null,
   "id": "abstract-battle",
   "metadata": {},
   "outputs": [],
   "source": [
    "# Excluded species labels\n",
    "# Species labels were excluded to minimize processing time/requirements\n",
    "!qiime rescript parse-silva-taxonomy \\\n",
    "    --i-taxonomy-tree taxtree-silva-138.1-nr99.qza \\\n",
    "    --i-taxonomy-map taxmap-silva-138.1-ssu-nr99.qza \\\n",
    "    --i-taxonomy-ranks taxranks-silva-138.1-ssu-nr99.qza \\\n",
    "    --p-no-include-species-labels \\\n",
    "    --o-taxonomy silva-138.1-ssu-nr99-nospecies-tax.qza"
   ]
  },
  {
   "cell_type": "markdown",
   "id": "rental-farmer",
   "metadata": {},
   "source": [
    "### “Culling” low-quality sequences with cull-seqs\n",
    "Here we’ll remove sequences that contain 5 or more ambiguous bases (IUPAC compliant ambiguity bases) and any homopolymers that are 8 or more bases in length. These are the default parameters. See the --help text for more details."
   ]
  },
  {
   "cell_type": "code",
   "execution_count": null,
   "id": "normal-hunter",
   "metadata": {},
   "outputs": [],
   "source": [
    "!qiime rescript cull-seqs \\\n",
    "    --i-sequences ~/analyses/ms398-2020/ref/silva-138.1-ssu-nr99-dna.qza \\\n",
    "    --o-clean-sequences silva-138.1-ssu-nr99-seqs-cleaned.qza"
   ]
  },
  {
   "cell_type": "markdown",
   "id": "adopted-villa",
   "metadata": {},
   "source": [
    "### Filtering sequences by length and taxonomy\n",
    "Rather than blindly filter all of the reference sequences below a certain length, we’ll differentially filter based on the taxonomy of the reference sequence. The reason: if we decide to remove any sequences below 1000 or 1200 bp, then many of the reference sequences associated with Archaea (and some Bacteria) will be lost. This will potentially increase the retention of shorter and lower-quality Bacterial or Eukaryal sequences. Ultimately causing undue database selection bias. So, we’ll attempt to mitigate these issues by differentially filtering based on length. We will remove rRNA gene sequences that do not meet the following criteria: Archaea (16S) >= 900 bp, Bacteria (16S) >= 1200 bp, and any Eukaryota (18S) >= 1400 bp. See help text for more info."
   ]
  },
  {
   "cell_type": "code",
   "execution_count": null,
   "id": "later-greenhouse",
   "metadata": {},
   "outputs": [],
   "source": [
    "# Unfiltered (with species labels)\n",
    "!qiime rescript filter-seqs-length-by-taxon \\\n",
    "    --i-sequences silva-138.1-ssu-nr99-seqs-cleaned.qza \\\n",
    "    --i-taxonomy silva-138.1-ssu-nr99-tax-all.qza \\\n",
    "    --p-labels Archaea Bacteria Eukaryota \\\n",
    "    --p-min-lens 900 1200 1400 \\\n",
    "    --o-filtered-seqs silva-138.1-ssu-nr99-seqs-filt.qza \\\n",
    "    --o-discarded-seqs silva-138.1-ssu-nr99-seqs-discard.qza "
   ]
  },
  {
   "cell_type": "code",
   "execution_count": null,
   "id": "compact-source",
   "metadata": {},
   "outputs": [],
   "source": [
    "# Filtered (with species labels)\n",
    "!qiime rescript filter-seqs-length-by-taxon \\\n",
    "    --i-sequences silva-138.1-ssu-nr99-seqs-cleaned.qza \\\n",
    "    --i-taxonomy silva-138.1-ssu-nr99-nospecies-tax.qza \\\n",
    "    --p-labels Archaea Bacteria Eukaryota \\\n",
    "    --p-min-lens 900 1200 1400 \\\n",
    "    --o-filtered-seqs silva-138.1-ssu-nr99-nospecies-seqs-filt.qza \\\n",
    "    --o-discarded-seqs silva-138.1-ssu-nr99-nospecies-seqs-discard.qza "
   ]
  },
  {
   "cell_type": "markdown",
   "id": "ranging-friend",
   "metadata": {},
   "source": [
    "### Filter to include Eukaryotes only\n",
    "Sometimes, it's better to run further filtering steps to significantly reduce the data size and, hence, decrease computational requirements"
   ]
  },
  {
   "cell_type": "code",
   "execution_count": null,
   "id": "limiting-russia",
   "metadata": {},
   "outputs": [],
   "source": [
    "# Filter the sequence file to include euks only\n",
    "!qiime taxa filter-seqs\\\n",
    "    --i-sequences silva-138.1-ssu-nr99-seqs-filt.qza \\\n",
    "    --i-taxonomy silva-138.1-ssu-nr99-tax-all.qza \\\n",
    "    --p-include Eukaryota \\\n",
    "    --o-filtered-sequences silva-138.1-seqs-euk.qza"
   ]
  },
  {
   "cell_type": "code",
   "execution_count": null,
   "id": "another-integration",
   "metadata": {},
   "outputs": [],
   "source": [
    "# Filter the taxonomy mapping file to include euks only\n",
    "!qiime rescript filter-taxa \\\n",
    "    --i-taxonomy silva-138.1-ssu-nr99-tax-all.qza \\\n",
    "    --p-include Eukaryota \\\n",
    "    --o-filtered-taxonomy silva-138.1-tax-euk.qza"
   ]
  },
  {
   "cell_type": "markdown",
   "id": "surface-personality",
   "metadata": {},
   "source": [
    "### Dereplication of sequences and taxonomy\n",
    "Given the notes outlined for the SILVA 138 and 138.1 NR99 release, there may be identical full-length sequences with either identical or different taxonomies. We’ll proceed to dereplicate this data before moving forward. This will help remove redundant sequence data from the database prior to downstream processing. RESCRIPt provide several options for sequence-taxonomy dereplication. See the hidden details below for more information.\n",
    "\n",
    "#### Dereplicating in uniq mode\n",
    "Here we will use the default uniq approach. That is, we’ll retain identical sequence records that have differing taxonomies. We’ll specify the option here for the sake of clarity, but feel free to use any of the --p-mode options that make sense to you."
   ]
  },
  {
   "cell_type": "code",
   "execution_count": null,
   "id": "satisfactory-terminal",
   "metadata": {},
   "outputs": [],
   "source": [
    "### CHECKPOINT ###\n",
    "# Take note of the name of the files, output file names were shortened\n",
    "!qiime rescript dereplicate \\\n",
    "    --i-sequences silva-138.1-seqs-euk.qza \\\n",
    "    --i-taxa silva-138.1-tax-euk.qza \\\n",
    "    --p-rank-handles 'silva' \\\n",
    "    --p-mode 'uniq' \\\n",
    "    --o-dereplicated-sequences silva-138.1-seqs-euk-drep \\\n",
    "    --o-dereplicated-taxa silva-138.1-tax-euk-drep"
   ]
  },
  {
   "cell_type": "markdown",
   "id": "revised-convention",
   "metadata": {},
   "source": [
    "A classifier can be made using the outputs from the above cell. However, this pipeline will continue to amplicon-region specific classifier."
   ]
  },
  {
   "cell_type": "markdown",
   "id": "entitled-mouth",
   "metadata": {},
   "source": [
    "### Get specific amplicon region sequences\n",
    "Here, we’ll go into more detail about how to generate an amplicon-specific classifier. Constructing such a classifier allows for more robust taxonomic classification of your data (Werner et al. 2011; Bokulich et al. 2018).\n",
    "\n",
    "Here, you’ll use the same primer sequences that you used for your PCR / sequencing, to extract the amplicon region from our reference database. Note, we enter the primer sequences in the 5’-3’ direction, i.e. as you would order the oligos from a vendor. Here, we’ll extract the V4 region using the primers E572F/E1009R by Comeau et al. (2011). Note that we’ll set --p-read-orientation 'forward', as the SILVA database is curated to be in the same “forward” orientation. This will allow us to process the data more quickly w/o having to account for mixed-orientation sequences during our primer search. We’ll continue by making use of the files from previous steps."
   ]
  },
  {
   "cell_type": "code",
   "execution_count": null,
   "id": "present-clerk",
   "metadata": {},
   "outputs": [],
   "source": [
    "# Sequences with ranging 200-700 bps only\n",
    "!qiime feature-classifier extract-reads \\\n",
    "    --i-sequences silva-138.1-seqs-euk-drep.qza \\\n",
    "    --p-f-primer CYGCGGTAATTCCAGCTC \\\n",
    "    --p-r-primer AYGGTATCTRATCRTCTTYG \\\n",
    "    --p-n-jobs 2 \\\n",
    "    --p-read-orientation 'forward' \\\n",
    "    --p-min-length 200 \\\n",
    "    --p-max-length 700 \\\n",
    "    --o-reads silva-138.1-seqs-euk-v4-200700.qza"
   ]
  },
  {
   "cell_type": "markdown",
   "id": "entertaining-casino",
   "metadata": {},
   "source": [
    "### Look at database stats"
   ]
  },
  {
   "cell_type": "code",
   "execution_count": null,
   "id": "handed-nevada",
   "metadata": {
    "scrolled": true
   },
   "outputs": [],
   "source": [
    "!qiime feature-table tabulate-seqs \\\n",
    "    --i-data silva-138.1-seqs-euk-v4-200700.qza \\\n",
    "    --o-visualization silva-138.1-seqs-euk-v4-200700.qzv \\\n",
    "\n",
    "# Visualize\n",
    "q2.Visualization.load('silva-138.1-seqs-euk-v4-200700.qzv')"
   ]
  },
  {
   "cell_type": "markdown",
   "id": "macro-closing",
   "metadata": {},
   "source": [
    "### Dereplicate extracted region\n",
    "Even though we already dereplicated our full-length sequences, we’ll do so again as the extracted amplicon regions may now be identical over this shorter region.\n",
    "\n",
    "We may have unique sequences that point to quite different taxonomies (e.g. different genera). Thus, we need to decide how we’d like to handle the taxonomy by choosing one of the available --p-mode options.\n",
    "Conversely, we may have had many different full-length sequences with identical taxonomy, and now these records, after extracting the amplicon region, are identical. As a result of this, we can reduce our database size by simply dereplicating them, as we’ve done earlier."
   ]
  },
  {
   "cell_type": "code",
   "execution_count": null,
   "id": "common-space",
   "metadata": {},
   "outputs": [],
   "source": [
    "!qiime rescript dereplicate \\\n",
    "    --i-sequences silva-138.1-seqs-euk-v4-200700.qza \\\n",
    "    --i-taxa silva-138.1-tax-euk-drep.qza \\\n",
    "    --p-rank-handles 'silva' \\\n",
    "    --p-mode 'uniq' \\\n",
    "    --o-dereplicated-sequences silva-138.1-seqs-euk-v4-200700-drep.qza \\\n",
    "    --o-dereplicated-taxa silva-138.1-tax-euk-v4-200700-drep.qza"
   ]
  },
  {
   "cell_type": "markdown",
   "id": "multiple-feeling",
   "metadata": {},
   "source": [
    "### Build amplicon-region specific classifier"
   ]
  },
  {
   "cell_type": "code",
   "execution_count": null,
   "id": "approved-python",
   "metadata": {},
   "outputs": [],
   "source": [
    "!qiime feature-classifier fit-classifier-naive-bayes \\\n",
    "    --i-reference-reads silva-138.1-seqs-euk-v4-200700-drep.qza \\\n",
    "    --i-reference-taxonomy silva-138.1-tax-euk-v4-200700-drep.qza \\\n",
    "    --p-classify--chunk-size 10000 \\\n",
    "    --o-classifier silva-138.1-euk-v4-200700-classifier.qza"
   ]
  }
 ],
 "metadata": {
  "kernelspec": {
   "display_name": "Python 3",
   "language": "python",
   "name": "python3"
  },
  "language_info": {
   "codemirror_mode": {
    "name": "ipython",
    "version": 3
   },
   "file_extension": ".py",
   "mimetype": "text/x-python",
   "name": "python",
   "nbconvert_exporter": "python",
   "pygments_lexer": "ipython3",
   "version": "3.6.13"
  }
 },
 "nbformat": 4,
 "nbformat_minor": 5
}
